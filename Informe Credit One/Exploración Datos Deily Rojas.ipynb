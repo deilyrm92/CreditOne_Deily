{
 "cells": [
  {
   "cell_type": "markdown",
   "metadata": {},
   "source": [
    "# Credit One"
   ]
  },
  {
   "cell_type": "markdown",
   "metadata": {},
   "source": [
    "## Preprocesamiento del Set"
   ]
  },
  {
   "cell_type": "markdown",
   "metadata": {},
   "source": [
    "### Inicialización de librerias"
   ]
  },
  {
   "cell_type": "code",
   "execution_count": 2,
   "metadata": {},
   "outputs": [],
   "source": [
    "import pandas as pd\n",
    "import numpy as np\n",
    "import pandas as pd\n",
    "from pandas import Series, DataFrame\n",
    "import matplotlib as mpl\n",
    "import matplotlib.pyplot as plt\n",
    "import seaborn as sns\n",
    "from IPython.display import display # Allows the use of display() for DataFrames\n",
    "from bokeh.plotting import figure, output_file, show"
   ]
  },
  {
   "cell_type": "markdown",
   "metadata": {},
   "source": [
    "### Carga de información"
   ]
  },
  {
   "cell_type": "code",
   "execution_count": 3,
   "metadata": {},
   "outputs": [],
   "source": [
    "credit = pd.read_csv('D:\\Personal\\Cenfotec\\Modulo 5\\Fuente\\default of credit card clients.csv', header =1)"
   ]
  },
  {
   "cell_type": "markdown",
   "metadata": {},
   "source": [
    "### Se renombran las columnas para mejor entendimiento"
   ]
  },
  {
   "cell_type": "code",
   "execution_count": 4,
   "metadata": {},
   "outputs": [],
   "source": [
    "credit=credit.rename(columns={\"PAY_0\": \"PAY_April\", \"PAY_2\": \"PAY_May\", \"PAY_3\": \"PAY_Jun\", \"PAY_4\": \"PAY_Jul\", \"PAY_5\": \"PAY_Aug\", \"PAY_6\": \"PAY_Set\"})\n",
    "credit=credit.rename(columns={\"BILL_AMT1\": \"BILL_AMT_Set\", \"BILL_AMT2\": \"BILL_AMT_Aug\", \"BILL_AMT3\": \"BILL_AMT_Jul\", \"BILL_AMT4\": \"BILL_AMT_Jun\", \"BILL_AMT5\": \"BILL_AMT_May\", \"BILL_AMT6\": \"BILL_AMT_Abril\"})\n",
    "credit=credit.rename(columns={\"PAY_AMT1\": \"PAY_AMT_Set\", \"PAY_AMT2\": \"PAY_AMT_Aug\", \"PAY_AMT3\": \"PAY_AMT_Jul\", \"PAY_AMT4\": \"PAY_AMT_Jun\", \"PAY_AMT5\": \"PAY_AMT_May\", \"PAY_AMT6\": \"PAY_AMT_Abril\"})\n",
    "credit=credit.rename(columns={\"default payment next month\": \"DEFAULT\"})"
   ]
  },
  {
   "cell_type": "markdown",
   "metadata": {},
   "source": [
    "### Al ser un módelo de Clasificación, Se cambian variables a catagoricas"
   ]
  },
  {
   "cell_type": "code",
   "execution_count": 5,
   "metadata": {},
   "outputs": [],
   "source": [
    "credit=credit.astype({'SEX':'category','AGE':'category','EDUCATION':'category','MARRIAGE':'category','PAY_April':'category','PAY_May':'category','PAY_Jun':'category','PAY_Jul':'category','PAY_Aug':'category','PAY_Set':'category','DEFAULT':'category'})"
   ]
  },
  {
   "cell_type": "markdown",
   "metadata": {},
   "source": [
    "### Se modifican los valores por su prosa en busqueda de un mejor entendimiento de la información."
   ]
  },
  {
   "cell_type": "markdown",
   "metadata": {},
   "source": [
    "#### Modificar Record de pagos"
   ]
  },
  {
   "cell_type": "code",
   "execution_count": 6,
   "metadata": {},
   "outputs": [],
   "source": [
    "credit['PAY_April']=credit['PAY_April'].replace({-2: \"No consumption\"})\n",
    "credit['PAY_April']=credit['PAY_April'].replace({-1: \"Paid in full\"})\n",
    "credit['PAY_April']=credit['PAY_April'].replace({0: \"The use of revolving credit\"})\n",
    "\n",
    "credit['PAY_Jun']=credit['PAY_Jun'].replace({-2: \"No consumption\"})\n",
    "credit['PAY_Jun']=credit['PAY_Jun'].replace({-1: \"Paid in full\"})\n",
    "credit['PAY_Jun']=credit['PAY_Jun'].replace({0: \"The use of revolving credit\"})\n",
    "\n",
    "credit['PAY_Jul']=credit['PAY_Jul'].replace({-2: \"No consumption\"})\n",
    "credit['PAY_Jul']=credit['PAY_Jul'].replace({-1: \"Paid in full\"})\n",
    "credit['PAY_Jul']=credit['PAY_Jul'].replace({0: \"The use of revolving credit\"})\n",
    "\n",
    "credit['PAY_Aug']=credit['PAY_Aug'].replace({-2: \"No consumption\"})\n",
    "credit['PAY_Aug']=credit['PAY_Aug'].replace({-1: \"Paid in full\"})\n",
    "credit['PAY_Aug']=credit['PAY_Aug'].replace({0: \"The use of revolving credit\"})\n",
    "\n",
    "credit['PAY_Set']=credit['PAY_Set'].replace({-2: \"No consumption\"})\n",
    "credit['PAY_Set']=credit['PAY_Set'].replace({-1: \"Paid in full\"})\n",
    "credit['PAY_Set']=credit['PAY_Set'].replace({0: \"The use of revolving credit\"})\n",
    "\n",
    "credit['PAY_May']=credit['PAY_May'].replace({-2: \"No consumption\"})\n",
    "credit['PAY_May']=credit['PAY_May'].replace({-1: \"Paid in full\"})\n",
    "credit['PAY_May']=credit['PAY_May'].replace({0: \"The use of revolving credit\"})"
   ]
  },
  {
   "cell_type": "markdown",
   "metadata": {},
   "source": [
    "#### Modificar valores de Genero"
   ]
  },
  {
   "cell_type": "code",
   "execution_count": 7,
   "metadata": {},
   "outputs": [],
   "source": [
    "credit['SEX']=credit['SEX'].replace({1: \"Male\"})\n",
    "credit['SEX']=credit['SEX'].replace({2: \"Female\"})"
   ]
  },
  {
   "cell_type": "markdown",
   "metadata": {},
   "source": [
    "#### Modificar valores de Educación "
   ]
  },
  {
   "cell_type": "code",
   "execution_count": 8,
   "metadata": {},
   "outputs": [],
   "source": [
    "credit['EDUCATION']=credit['EDUCATION'].replace({1: \"Graduate school\"})\n",
    "credit['EDUCATION']=credit['EDUCATION'].replace({2: \"University\"})\n",
    "credit['EDUCATION']=credit['EDUCATION'].replace({3: \" high school\"})\n",
    "credit['EDUCATION']=credit['EDUCATION'].replace({0: \"others\"})\n",
    "credit['EDUCATION']=credit['EDUCATION'].replace({4: \"others\"})\n",
    "credit['EDUCATION']=credit['EDUCATION'].replace({5: \"others\"})\n",
    "credit['EDUCATION']=credit['EDUCATION'].replace({6: \"others\"})"
   ]
  },
  {
   "cell_type": "markdown",
   "metadata": {},
   "source": [
    "#### Modificar Valores de Estado Civil"
   ]
  },
  {
   "cell_type": "code",
   "execution_count": 9,
   "metadata": {},
   "outputs": [],
   "source": [
    "credit['MARRIAGE']=credit['MARRIAGE'].replace({1: \"Married\"})\n",
    "credit['MARRIAGE']=credit['MARRIAGE'].replace({2: \"Single\"})\n",
    "credit['MARRIAGE']=credit['MARRIAGE'].replace({3: \"Divorce\"})\n",
    "credit['MARRIAGE']=credit['MARRIAGE'].replace({0: \"others\"})"
   ]
  },
  {
   "cell_type": "code",
   "execution_count": 10,
   "metadata": {},
   "outputs": [],
   "source": [
    "credit['DEFAULT']=credit['DEFAULT'].replace({1: \"Yes\"})\n",
    "credit['DEFAULT']=credit['DEFAULT'].replace({0: \"No\"})"
   ]
  },
  {
   "cell_type": "markdown",
   "metadata": {},
   "source": [
    "### Se imprime el dataset para la revisión del mismo"
   ]
  },
  {
   "cell_type": "code",
   "execution_count": 224,
   "metadata": {},
   "outputs": [
    {
     "data": {
      "text/html": [
       "<div>\n",
       "<style scoped>\n",
       "    .dataframe tbody tr th:only-of-type {\n",
       "        vertical-align: middle;\n",
       "    }\n",
       "\n",
       "    .dataframe tbody tr th {\n",
       "        vertical-align: top;\n",
       "    }\n",
       "\n",
       "    .dataframe thead th {\n",
       "        text-align: right;\n",
       "    }\n",
       "</style>\n",
       "<table border=\"1\" class=\"dataframe\">\n",
       "  <thead>\n",
       "    <tr style=\"text-align: right;\">\n",
       "      <th></th>\n",
       "      <th>ID</th>\n",
       "      <th>LIMIT_BAL</th>\n",
       "      <th>SEX</th>\n",
       "      <th>EDUCATION</th>\n",
       "      <th>MARRIAGE</th>\n",
       "      <th>AGE</th>\n",
       "      <th>PAY_April</th>\n",
       "      <th>PAY_May</th>\n",
       "      <th>PAY_Jun</th>\n",
       "      <th>PAY_Jul</th>\n",
       "      <th>...</th>\n",
       "      <th>BILL_AMT_Jun</th>\n",
       "      <th>BILL_AMT_May</th>\n",
       "      <th>BILL_AMT_Abril</th>\n",
       "      <th>PAY_AMT_Set</th>\n",
       "      <th>PAY_AMT_Aug</th>\n",
       "      <th>PAY_AMT_Jul</th>\n",
       "      <th>PAY_AMT_Jun</th>\n",
       "      <th>PAY_AMT_May</th>\n",
       "      <th>PAY_AMT_Abril</th>\n",
       "      <th>default payment next month</th>\n",
       "    </tr>\n",
       "  </thead>\n",
       "  <tbody>\n",
       "    <tr>\n",
       "      <td>0</td>\n",
       "      <td>1</td>\n",
       "      <td>20000</td>\n",
       "      <td>Female</td>\n",
       "      <td>University</td>\n",
       "      <td>Married</td>\n",
       "      <td>24</td>\n",
       "      <td>2</td>\n",
       "      <td>2</td>\n",
       "      <td>Paid in full</td>\n",
       "      <td>Paid in full</td>\n",
       "      <td>...</td>\n",
       "      <td>0</td>\n",
       "      <td>0</td>\n",
       "      <td>0</td>\n",
       "      <td>0</td>\n",
       "      <td>689</td>\n",
       "      <td>0</td>\n",
       "      <td>0</td>\n",
       "      <td>0</td>\n",
       "      <td>0</td>\n",
       "      <td>1</td>\n",
       "    </tr>\n",
       "    <tr>\n",
       "      <td>1</td>\n",
       "      <td>2</td>\n",
       "      <td>120000</td>\n",
       "      <td>Female</td>\n",
       "      <td>University</td>\n",
       "      <td>Single</td>\n",
       "      <td>26</td>\n",
       "      <td>Paid in full</td>\n",
       "      <td>2</td>\n",
       "      <td>The use of revolving credit</td>\n",
       "      <td>The use of revolving credit</td>\n",
       "      <td>...</td>\n",
       "      <td>3272</td>\n",
       "      <td>3455</td>\n",
       "      <td>3261</td>\n",
       "      <td>0</td>\n",
       "      <td>1000</td>\n",
       "      <td>1000</td>\n",
       "      <td>1000</td>\n",
       "      <td>0</td>\n",
       "      <td>2000</td>\n",
       "      <td>1</td>\n",
       "    </tr>\n",
       "    <tr>\n",
       "      <td>2</td>\n",
       "      <td>3</td>\n",
       "      <td>90000</td>\n",
       "      <td>Female</td>\n",
       "      <td>University</td>\n",
       "      <td>Single</td>\n",
       "      <td>34</td>\n",
       "      <td>The use of revolving credit</td>\n",
       "      <td>The use of revolving credit</td>\n",
       "      <td>The use of revolving credit</td>\n",
       "      <td>The use of revolving credit</td>\n",
       "      <td>...</td>\n",
       "      <td>14331</td>\n",
       "      <td>14948</td>\n",
       "      <td>15549</td>\n",
       "      <td>1518</td>\n",
       "      <td>1500</td>\n",
       "      <td>1000</td>\n",
       "      <td>1000</td>\n",
       "      <td>1000</td>\n",
       "      <td>5000</td>\n",
       "      <td>0</td>\n",
       "    </tr>\n",
       "    <tr>\n",
       "      <td>3</td>\n",
       "      <td>4</td>\n",
       "      <td>50000</td>\n",
       "      <td>Female</td>\n",
       "      <td>University</td>\n",
       "      <td>Married</td>\n",
       "      <td>37</td>\n",
       "      <td>The use of revolving credit</td>\n",
       "      <td>The use of revolving credit</td>\n",
       "      <td>The use of revolving credit</td>\n",
       "      <td>The use of revolving credit</td>\n",
       "      <td>...</td>\n",
       "      <td>28314</td>\n",
       "      <td>28959</td>\n",
       "      <td>29547</td>\n",
       "      <td>2000</td>\n",
       "      <td>2019</td>\n",
       "      <td>1200</td>\n",
       "      <td>1100</td>\n",
       "      <td>1069</td>\n",
       "      <td>1000</td>\n",
       "      <td>0</td>\n",
       "    </tr>\n",
       "    <tr>\n",
       "      <td>4</td>\n",
       "      <td>5</td>\n",
       "      <td>50000</td>\n",
       "      <td>Male</td>\n",
       "      <td>University</td>\n",
       "      <td>Married</td>\n",
       "      <td>57</td>\n",
       "      <td>Paid in full</td>\n",
       "      <td>The use of revolving credit</td>\n",
       "      <td>Paid in full</td>\n",
       "      <td>The use of revolving credit</td>\n",
       "      <td>...</td>\n",
       "      <td>20940</td>\n",
       "      <td>19146</td>\n",
       "      <td>19131</td>\n",
       "      <td>2000</td>\n",
       "      <td>36681</td>\n",
       "      <td>10000</td>\n",
       "      <td>9000</td>\n",
       "      <td>689</td>\n",
       "      <td>679</td>\n",
       "      <td>0</td>\n",
       "    </tr>\n",
       "    <tr>\n",
       "      <td>...</td>\n",
       "      <td>...</td>\n",
       "      <td>...</td>\n",
       "      <td>...</td>\n",
       "      <td>...</td>\n",
       "      <td>...</td>\n",
       "      <td>...</td>\n",
       "      <td>...</td>\n",
       "      <td>...</td>\n",
       "      <td>...</td>\n",
       "      <td>...</td>\n",
       "      <td>...</td>\n",
       "      <td>...</td>\n",
       "      <td>...</td>\n",
       "      <td>...</td>\n",
       "      <td>...</td>\n",
       "      <td>...</td>\n",
       "      <td>...</td>\n",
       "      <td>...</td>\n",
       "      <td>...</td>\n",
       "      <td>...</td>\n",
       "      <td>...</td>\n",
       "    </tr>\n",
       "    <tr>\n",
       "      <td>29995</td>\n",
       "      <td>29996</td>\n",
       "      <td>220000</td>\n",
       "      <td>Male</td>\n",
       "      <td>high school</td>\n",
       "      <td>Married</td>\n",
       "      <td>39</td>\n",
       "      <td>The use of revolving credit</td>\n",
       "      <td>The use of revolving credit</td>\n",
       "      <td>The use of revolving credit</td>\n",
       "      <td>The use of revolving credit</td>\n",
       "      <td>...</td>\n",
       "      <td>88004</td>\n",
       "      <td>31237</td>\n",
       "      <td>15980</td>\n",
       "      <td>8500</td>\n",
       "      <td>20000</td>\n",
       "      <td>5003</td>\n",
       "      <td>3047</td>\n",
       "      <td>5000</td>\n",
       "      <td>1000</td>\n",
       "      <td>0</td>\n",
       "    </tr>\n",
       "    <tr>\n",
       "      <td>29996</td>\n",
       "      <td>29997</td>\n",
       "      <td>150000</td>\n",
       "      <td>Male</td>\n",
       "      <td>high school</td>\n",
       "      <td>Single</td>\n",
       "      <td>43</td>\n",
       "      <td>Paid in full</td>\n",
       "      <td>Paid in full</td>\n",
       "      <td>Paid in full</td>\n",
       "      <td>Paid in full</td>\n",
       "      <td>...</td>\n",
       "      <td>8979</td>\n",
       "      <td>5190</td>\n",
       "      <td>0</td>\n",
       "      <td>1837</td>\n",
       "      <td>3526</td>\n",
       "      <td>8998</td>\n",
       "      <td>129</td>\n",
       "      <td>0</td>\n",
       "      <td>0</td>\n",
       "      <td>0</td>\n",
       "    </tr>\n",
       "    <tr>\n",
       "      <td>29997</td>\n",
       "      <td>29998</td>\n",
       "      <td>30000</td>\n",
       "      <td>Male</td>\n",
       "      <td>University</td>\n",
       "      <td>Single</td>\n",
       "      <td>37</td>\n",
       "      <td>4</td>\n",
       "      <td>3</td>\n",
       "      <td>2</td>\n",
       "      <td>Paid in full</td>\n",
       "      <td>...</td>\n",
       "      <td>20878</td>\n",
       "      <td>20582</td>\n",
       "      <td>19357</td>\n",
       "      <td>0</td>\n",
       "      <td>0</td>\n",
       "      <td>22000</td>\n",
       "      <td>4200</td>\n",
       "      <td>2000</td>\n",
       "      <td>3100</td>\n",
       "      <td>1</td>\n",
       "    </tr>\n",
       "    <tr>\n",
       "      <td>29998</td>\n",
       "      <td>29999</td>\n",
       "      <td>80000</td>\n",
       "      <td>Male</td>\n",
       "      <td>high school</td>\n",
       "      <td>Married</td>\n",
       "      <td>41</td>\n",
       "      <td>1</td>\n",
       "      <td>Paid in full</td>\n",
       "      <td>The use of revolving credit</td>\n",
       "      <td>The use of revolving credit</td>\n",
       "      <td>...</td>\n",
       "      <td>52774</td>\n",
       "      <td>11855</td>\n",
       "      <td>48944</td>\n",
       "      <td>85900</td>\n",
       "      <td>3409</td>\n",
       "      <td>1178</td>\n",
       "      <td>1926</td>\n",
       "      <td>52964</td>\n",
       "      <td>1804</td>\n",
       "      <td>1</td>\n",
       "    </tr>\n",
       "    <tr>\n",
       "      <td>29999</td>\n",
       "      <td>30000</td>\n",
       "      <td>50000</td>\n",
       "      <td>Male</td>\n",
       "      <td>University</td>\n",
       "      <td>Married</td>\n",
       "      <td>46</td>\n",
       "      <td>The use of revolving credit</td>\n",
       "      <td>The use of revolving credit</td>\n",
       "      <td>The use of revolving credit</td>\n",
       "      <td>The use of revolving credit</td>\n",
       "      <td>...</td>\n",
       "      <td>36535</td>\n",
       "      <td>32428</td>\n",
       "      <td>15313</td>\n",
       "      <td>2078</td>\n",
       "      <td>1800</td>\n",
       "      <td>1430</td>\n",
       "      <td>1000</td>\n",
       "      <td>1000</td>\n",
       "      <td>1000</td>\n",
       "      <td>1</td>\n",
       "    </tr>\n",
       "  </tbody>\n",
       "</table>\n",
       "<p>30000 rows × 25 columns</p>\n",
       "</div>"
      ],
      "text/plain": [
       "          ID  LIMIT_BAL     SEX     EDUCATION MARRIAGE AGE  \\\n",
       "0          1      20000  Female    University  Married  24   \n",
       "1          2     120000  Female    University   Single  26   \n",
       "2          3      90000  Female    University   Single  34   \n",
       "3          4      50000  Female    University  Married  37   \n",
       "4          5      50000    Male    University  Married  57   \n",
       "...      ...        ...     ...           ...      ...  ..   \n",
       "29995  29996     220000    Male   high school  Married  39   \n",
       "29996  29997     150000    Male   high school   Single  43   \n",
       "29997  29998      30000    Male    University   Single  37   \n",
       "29998  29999      80000    Male   high school  Married  41   \n",
       "29999  30000      50000    Male    University  Married  46   \n",
       "\n",
       "                         PAY_April                      PAY_May  \\\n",
       "0                                2                            2   \n",
       "1                     Paid in full                            2   \n",
       "2      The use of revolving credit  The use of revolving credit   \n",
       "3      The use of revolving credit  The use of revolving credit   \n",
       "4                     Paid in full  The use of revolving credit   \n",
       "...                            ...                          ...   \n",
       "29995  The use of revolving credit  The use of revolving credit   \n",
       "29996                 Paid in full                 Paid in full   \n",
       "29997                            4                            3   \n",
       "29998                            1                 Paid in full   \n",
       "29999  The use of revolving credit  The use of revolving credit   \n",
       "\n",
       "                           PAY_Jun                      PAY_Jul  ...  \\\n",
       "0                     Paid in full                 Paid in full  ...   \n",
       "1      The use of revolving credit  The use of revolving credit  ...   \n",
       "2      The use of revolving credit  The use of revolving credit  ...   \n",
       "3      The use of revolving credit  The use of revolving credit  ...   \n",
       "4                     Paid in full  The use of revolving credit  ...   \n",
       "...                            ...                          ...  ...   \n",
       "29995  The use of revolving credit  The use of revolving credit  ...   \n",
       "29996                 Paid in full                 Paid in full  ...   \n",
       "29997                            2                 Paid in full  ...   \n",
       "29998  The use of revolving credit  The use of revolving credit  ...   \n",
       "29999  The use of revolving credit  The use of revolving credit  ...   \n",
       "\n",
       "      BILL_AMT_Jun BILL_AMT_May  BILL_AMT_Abril  PAY_AMT_Set  PAY_AMT_Aug  \\\n",
       "0                0            0               0            0          689   \n",
       "1             3272         3455            3261            0         1000   \n",
       "2            14331        14948           15549         1518         1500   \n",
       "3            28314        28959           29547         2000         2019   \n",
       "4            20940        19146           19131         2000        36681   \n",
       "...            ...          ...             ...          ...          ...   \n",
       "29995        88004        31237           15980         8500        20000   \n",
       "29996         8979         5190               0         1837         3526   \n",
       "29997        20878        20582           19357            0            0   \n",
       "29998        52774        11855           48944        85900         3409   \n",
       "29999        36535        32428           15313         2078         1800   \n",
       "\n",
       "       PAY_AMT_Jul  PAY_AMT_Jun  PAY_AMT_May  PAY_AMT_Abril  \\\n",
       "0                0            0            0              0   \n",
       "1             1000         1000            0           2000   \n",
       "2             1000         1000         1000           5000   \n",
       "3             1200         1100         1069           1000   \n",
       "4            10000         9000          689            679   \n",
       "...            ...          ...          ...            ...   \n",
       "29995         5003         3047         5000           1000   \n",
       "29996         8998          129            0              0   \n",
       "29997        22000         4200         2000           3100   \n",
       "29998         1178         1926        52964           1804   \n",
       "29999         1430         1000         1000           1000   \n",
       "\n",
       "       default payment next month  \n",
       "0                               1  \n",
       "1                               1  \n",
       "2                               0  \n",
       "3                               0  \n",
       "4                               0  \n",
       "...                           ...  \n",
       "29995                           0  \n",
       "29996                           0  \n",
       "29997                           1  \n",
       "29998                           1  \n",
       "29999                           1  \n",
       "\n",
       "[30000 rows x 25 columns]"
      ]
     },
     "metadata": {},
     "output_type": "display_data"
    }
   ],
   "source": [
    "display(credit)"
   ]
  },
  {
   "cell_type": "markdown",
   "metadata": {},
   "source": [
    "### Revisión de Datos Faltantes"
   ]
  },
  {
   "cell_type": "code",
   "execution_count": 266,
   "metadata": {},
   "outputs": [
    {
     "data": {
      "text/html": [
       "<div>\n",
       "<style scoped>\n",
       "    .dataframe tbody tr th:only-of-type {\n",
       "        vertical-align: middle;\n",
       "    }\n",
       "\n",
       "    .dataframe tbody tr th {\n",
       "        vertical-align: top;\n",
       "    }\n",
       "\n",
       "    .dataframe thead th {\n",
       "        text-align: right;\n",
       "    }\n",
       "</style>\n",
       "<table border=\"1\" class=\"dataframe\">\n",
       "  <thead>\n",
       "    <tr style=\"text-align: right;\">\n",
       "      <th></th>\n",
       "      <th>default payment next month</th>\n",
       "      <th>PAY_Set</th>\n",
       "      <th>LIMIT_BAL</th>\n",
       "      <th>SEX</th>\n",
       "      <th>EDUCATION</th>\n",
       "      <th>MARRIAGE</th>\n",
       "      <th>AGE</th>\n",
       "      <th>PAY_April</th>\n",
       "      <th>PAY_May</th>\n",
       "      <th>PAY_Jun</th>\n",
       "      <th>...</th>\n",
       "      <th>BILL_AMT_Jul</th>\n",
       "      <th>BILL_AMT_Jun</th>\n",
       "      <th>BILL_AMT_May</th>\n",
       "      <th>BILL_AMT_Abril</th>\n",
       "      <th>PAY_AMT_Set</th>\n",
       "      <th>PAY_AMT_Aug</th>\n",
       "      <th>PAY_AMT_Jul</th>\n",
       "      <th>PAY_AMT_Jun</th>\n",
       "      <th>PAY_AMT_May</th>\n",
       "      <th>ID</th>\n",
       "    </tr>\n",
       "  </thead>\n",
       "  <tbody>\n",
       "    <tr>\n",
       "      <td>Total</td>\n",
       "      <td>0.0</td>\n",
       "      <td>0.0</td>\n",
       "      <td>0.0</td>\n",
       "      <td>0.0</td>\n",
       "      <td>0.0</td>\n",
       "      <td>0.0</td>\n",
       "      <td>0.0</td>\n",
       "      <td>0.0</td>\n",
       "      <td>0.0</td>\n",
       "      <td>0.0</td>\n",
       "      <td>...</td>\n",
       "      <td>0.0</td>\n",
       "      <td>0.0</td>\n",
       "      <td>0.0</td>\n",
       "      <td>0.0</td>\n",
       "      <td>0.0</td>\n",
       "      <td>0.0</td>\n",
       "      <td>0.0</td>\n",
       "      <td>0.0</td>\n",
       "      <td>0.0</td>\n",
       "      <td>0.0</td>\n",
       "    </tr>\n",
       "    <tr>\n",
       "      <td>Percent</td>\n",
       "      <td>0.0</td>\n",
       "      <td>0.0</td>\n",
       "      <td>0.0</td>\n",
       "      <td>0.0</td>\n",
       "      <td>0.0</td>\n",
       "      <td>0.0</td>\n",
       "      <td>0.0</td>\n",
       "      <td>0.0</td>\n",
       "      <td>0.0</td>\n",
       "      <td>0.0</td>\n",
       "      <td>...</td>\n",
       "      <td>0.0</td>\n",
       "      <td>0.0</td>\n",
       "      <td>0.0</td>\n",
       "      <td>0.0</td>\n",
       "      <td>0.0</td>\n",
       "      <td>0.0</td>\n",
       "      <td>0.0</td>\n",
       "      <td>0.0</td>\n",
       "      <td>0.0</td>\n",
       "      <td>0.0</td>\n",
       "    </tr>\n",
       "  </tbody>\n",
       "</table>\n",
       "<p>2 rows × 25 columns</p>\n",
       "</div>"
      ],
      "text/plain": [
       "         default payment next month  PAY_Set  LIMIT_BAL  SEX  EDUCATION  \\\n",
       "Total                           0.0      0.0        0.0  0.0        0.0   \n",
       "Percent                         0.0      0.0        0.0  0.0        0.0   \n",
       "\n",
       "         MARRIAGE  AGE  PAY_April  PAY_May  PAY_Jun  ...  BILL_AMT_Jul  \\\n",
       "Total         0.0  0.0        0.0      0.0      0.0  ...           0.0   \n",
       "Percent       0.0  0.0        0.0      0.0      0.0  ...           0.0   \n",
       "\n",
       "         BILL_AMT_Jun  BILL_AMT_May  BILL_AMT_Abril  PAY_AMT_Set  PAY_AMT_Aug  \\\n",
       "Total             0.0           0.0             0.0          0.0          0.0   \n",
       "Percent           0.0           0.0             0.0          0.0          0.0   \n",
       "\n",
       "         PAY_AMT_Jul  PAY_AMT_Jun  PAY_AMT_May   ID  \n",
       "Total            0.0          0.0          0.0  0.0  \n",
       "Percent          0.0          0.0          0.0  0.0  \n",
       "\n",
       "[2 rows x 25 columns]"
      ]
     },
     "execution_count": 266,
     "metadata": {},
     "output_type": "execute_result"
    }
   ],
   "source": [
    "total = credit.isnull().sum().sort_values(ascending = False)\n",
    "percent = (credit.isnull().sum()/credit.isnull().count()*100).sort_values(ascending = False)\n",
    "pd.concat([total, percent], axis=1, keys=['Total', 'Percent']).transpose()"
   ]
  },
  {
   "cell_type": "markdown",
   "metadata": {},
   "source": [
    "### Matriz de Correlación"
   ]
  },
  {
   "cell_type": "code",
   "execution_count": 225,
   "metadata": {},
   "outputs": [
    {
     "data": {
      "text/plain": [
       "<matplotlib.axes._subplots.AxesSubplot at 0x1af5ebb3a88>"
      ]
     },
     "execution_count": 225,
     "metadata": {},
     "output_type": "execute_result"
    },
    {
     "data": {
      "image/png": "[encoded data removed]",
      "text/plain": [
       "<Figure size 720x720 with 2 Axes>"
      ]
     },
     "metadata": {
      "needs_background": "light"
     },
     "output_type": "display_data"
    }
   ],
   "source": [
    "import seaborn as sns\n",
    "\n",
    "corr = credit.drop('ID',axis=1).corr()\n",
    "f, ax = plt.subplots(figsize=(10, 10))\n",
    "\n",
    "# Generate a custom diverging colormap\n",
    "cmap = sns.diverging_palette(220, 10, as_cmap=True)\n",
    "\n",
    "# Draw the heatmap with the mask and correct aspect ratio\n",
    "sns.heatmap(corr, cmap=cmap, vmin=0,vmax=1, center=0,\n",
    "            square=True, linewidths=.5)"
   ]
  },
  {
   "cell_type": "markdown",
   "metadata": {},
   "source": [
    "#### Se Dicretiza la variable Age, con la finalidad de simplificar los valores"
   ]
  },
  {
   "cell_type": "code",
   "execution_count": 226,
   "metadata": {},
   "outputs": [],
   "source": [
    "from sklearn.preprocessing import KBinsDiscretizer\n",
    "\n",
    "A1_dis = KBinsDiscretizer(n_bins=4, encode='ordinal',\n",
    "                           strategy = \"kmeans\").fit_transform(credit[['AGE']])\n",
    "\n",
    "A1_dis = pd.DataFrame(A1_dis)\n",
    "A1_dis = A1_dis.rename(columns = {0: 'AGE_D'})\n",
    "credit[['AGE_D']] = A1_dis"
   ]
  },
  {
   "cell_type": "code",
   "execution_count": 230,
   "metadata": {},
   "outputs": [
    {
     "name": "stdout",
     "output_type": "stream",
     "text": [
      "Index(['ID', 'LIMIT_BAL', 'SEX', 'EDUCATION', 'MARRIAGE', 'AGE', 'PAY_April',\n",
      "       'PAY_May', 'PAY_Jun', 'PAY_Jul', 'PAY_Aug', 'PAY_Set', 'BILL_AMT_Set',\n",
      "       'BILL_AMT_Aug', 'BILL_AMT_Jul', 'BILL_AMT_Jun', 'BILL_AMT_May',\n",
      "       'BILL_AMT_Abril', 'PAY_AMT_Set', 'PAY_AMT_Aug', 'PAY_AMT_Jul',\n",
      "       'PAY_AMT_Jun', 'PAY_AMT_May', 'PAY_AMT_Abril',\n",
      "       'default payment next month', 'AGE_D'],\n",
      "      dtype='object')\n"
     ]
    }
   ],
   "source": [
    "header = credit.dtypes.index\n",
    "print(header)"
   ]
  },
  {
   "cell_type": "code",
   "execution_count": 129,
   "metadata": {},
   "outputs": [
    {
     "data": {
      "image/png": "[encoded data removed]",
      "text/plain": [
       "<Figure size 432x288 with 6 Axes>"
      ]
     },
     "metadata": {
      "needs_background": "light"
     },
     "output_type": "display_data"
    }
   ],
   "source": [
    "def draw_histograms(df, variables, n_rows, n_cols, n_bins):\n",
    "    fig=plt.figure()\n",
    "    for i, var_name in enumerate(variables):\n",
    "        ax=fig.add_subplot(n_rows,n_cols,i+1)\n",
    "        df[var_name].hist(bins=n_bins,ax=ax)\n",
    "        ax.set_title(var_name)\n",
    "    fig.tight_layout()  # Improves appearance a bit.\n",
    "    plt.show()\n",
    "\n",
    "fil = (credit.PAY_April > -2) | (credit.PAY_April == -1) | (credit.PAY_April == 0)\n",
    "credit.loc[fil, 'PAY_April'] = 0\n",
    "fil = (credit.PAY_May == -2) | (credit.PAY_May == -1) | (credit.PAY_May == 0)\n",
    "credit.loc[fil, 'PAY_May'] = 0\n",
    "fil = (credit.PAY_Jun == -2) | (credit.PAY_Jun == -1) | (credit.PAY_Jun == 0)\n",
    "credit.loc[fil, 'PAY_Jun'] = 0\n",
    "fil = (credit.PAY_Jul == -2) | (credit.PAY_Jul == -1) | (credit.PAY_Jul == 0)\n",
    "credit.loc[fil, 'PAY_Jul'] = 0\n",
    "fil = (credit.PAY_Aug == -2) | (credit.PAY_Aug == -1) | (credit.PAY_Aug == 0)\n",
    "credit.loc[fil, 'PAY_Aug'] = 0\n",
    "fil = (credit.PAY_Set == -2) | (credit.PAY_Set == -1) | (credit.PAY_Set == 0)\n",
    "credit.loc[fil, 'PAY_Set'] = 0\n",
    "late = credit[['PAY_April','PAY_May', 'PAY_Jun', 'PAY_Jul', 'PAY_Aug', 'PAY_Set']]\n",
    "draw_histograms(late, late.columns, 2, 3, 10)"
   ]
  },
  {
   "cell_type": "code",
   "execution_count": 11,
   "metadata": {},
   "outputs": [
    {
     "ename": "AttributeError",
     "evalue": "module 'seaborn' has no attribute 'legend'",
     "output_type": "error",
     "traceback": [
      "\u001b[1;31m---------------------------------------------------------------------------\u001b[0m",
      "\u001b[1;31mAttributeError\u001b[0m                            Traceback (most recent call last)",
      "\u001b[1;32m<ipython-input-11-3d80694bdedd>\u001b[0m in \u001b[0;36m<module>\u001b[1;34m\u001b[0m\n\u001b[0;32m      6\u001b[0m \u001b[0msns\u001b[0m\u001b[1;33m.\u001b[0m\u001b[0mdistplot\u001b[0m\u001b[1;33m(\u001b[0m\u001b[0mclass_1\u001b[0m\u001b[1;33m,\u001b[0m\u001b[0mkde\u001b[0m\u001b[1;33m=\u001b[0m\u001b[1;32mTrue\u001b[0m\u001b[1;33m,\u001b[0m\u001b[0mbins\u001b[0m\u001b[1;33m=\u001b[0m\u001b[1;36m100\u001b[0m\u001b[1;33m,\u001b[0m \u001b[0mcolor\u001b[0m\u001b[1;33m=\u001b[0m\u001b[1;34m\"blue\"\u001b[0m\u001b[1;33m)\u001b[0m\u001b[1;33m\u001b[0m\u001b[1;33m\u001b[0m\u001b[0m\n\u001b[0;32m      7\u001b[0m \u001b[0msns\u001b[0m\u001b[1;33m.\u001b[0m\u001b[0mdistplot\u001b[0m\u001b[1;33m(\u001b[0m\u001b[0mclass_0\u001b[0m\u001b[1;33m,\u001b[0m\u001b[0mkde\u001b[0m\u001b[1;33m=\u001b[0m\u001b[1;32mTrue\u001b[0m\u001b[1;33m,\u001b[0m\u001b[0mbins\u001b[0m\u001b[1;33m=\u001b[0m\u001b[1;36m100\u001b[0m\u001b[1;33m,\u001b[0m \u001b[0mcolor\u001b[0m\u001b[1;33m=\u001b[0m\u001b[1;34m\"green\"\u001b[0m\u001b[1;33m)\u001b[0m\u001b[1;33m\u001b[0m\u001b[1;33m\u001b[0m\u001b[0m\n\u001b[1;32m----> 8\u001b[1;33m \u001b[0msns\u001b[0m\u001b[1;33m.\u001b[0m\u001b[0mlegend\u001b[0m\u001b[1;33m(\u001b[0m\u001b[0mtitle\u001b[0m\u001b[1;33m=\u001b[0m\u001b[1;34m'Gender:'\u001b[0m\u001b[1;33m)\u001b[0m\u001b[1;33m\u001b[0m\u001b[1;33m\u001b[0m\u001b[0m\n\u001b[0m\u001b[0;32m      9\u001b[0m \u001b[0mplt\u001b[0m\u001b[1;33m.\u001b[0m\u001b[0mshow\u001b[0m\u001b[1;33m(\u001b[0m\u001b[1;33m)\u001b[0m\u001b[1;33m\u001b[0m\u001b[1;33m\u001b[0m\u001b[0m\n",
      "\u001b[1;31mAttributeError\u001b[0m: module 'seaborn' has no attribute 'legend'"
     ]
    },
    {
     "data": {
      "image/png": "[encoded data removed]",
      "text/plain": [
       "<Figure size 1008x432 with 1 Axes>"
      ]
     },
     "metadata": {
      "needs_background": "light"
     },
     "output_type": "display_data"
    }
   ],
   "source": [
    "class_0 = credit.loc[credit['SEX'] == 'Male'][\"LIMIT_BAL\"]\n",
    "class_1 = credit.loc[credit['SEX'] == 'Female'][\"LIMIT_BAL\"]\n",
    "plt.figure(figsize = (14,6))\n",
    "plt.title('Limite de Credito por Genero')\n",
    "sns.set_color_codes(\"pastel\")\n",
    "sns.distplot(class_1,kde=True,bins=100, color=\"blue\")\n",
    "sns.distplot(class_0,kde=True,bins=100, color=\"green\")\n",
    "sns.legend(title='Gender:')\n",
    "plt.show()"
   ]
  },
  {
   "cell_type": "code",
   "execution_count": 41,
   "metadata": {},
   "outputs": [
    {
     "data": {
      "text/plain": [
       "Text(0.5, 1.0, 'Distribución de limite por Nivel Edicativo')"
      ]
     },
     "execution_count": 41,
     "metadata": {},
     "output_type": "execute_result"
    },
    {
     "data": {
      "image/png": "[encoded data removed]",
      "text/plain": [
       "<Figure size 432x288 with 1 Axes>"
      ]
     },
     "metadata": {
      "needs_background": "light"
     },
     "output_type": "display_data"
    }
   ],
   "source": [
    "ax=sns.violinplot(x='EDUCATION',y='LIMIT_BAL',hue='SEX',split=True,data=credit)\n",
    "ax.set_title('Distribución de limite por Nivel Edicativo')"
   ]
  },
  {
   "cell_type": "code",
   "execution_count": 90,
   "metadata": {},
   "outputs": [
    {
     "data": {
      "text/plain": [
       "<matplotlib.legend.Legend at 0x153f75952c8>"
      ]
     },
     "execution_count": 90,
     "metadata": {},
     "output_type": "execute_result"
    },
    {
     "data": {
      "image/png": "[encoded data removed]",
      "text/plain": [
       "<Figure size 432x288 with 1 Axes>"
      ]
     },
     "metadata": {
      "needs_background": "light"
     },
     "output_type": "display_data"
    }
   ],
   "source": [
    "ax=credit.groupby(\"EDUCATION\")['DEFAULT']\\\n",
    "                                .value_counts(normalize=True)\\\n",
    "                                .unstack()\\\n",
    "                                .plot(kind='barh',stacked='True')\n",
    "ax.set_title(\"Porcentaje de Clientes Manchados por Nivel Educativo\")\n",
    "ax.legend(title='Default',bbox_to_anchor=(1,1))"
   ]
  },
  {
   "cell_type": "code",
   "execution_count": 139,
   "metadata": {},
   "outputs": [
    {
     "data": {
      "text/plain": [
       "<matplotlib.legend.Legend at 0x1538187af88>"
      ]
     },
     "execution_count": 139,
     "metadata": {},
     "output_type": "execute_result"
    },
    {
     "data": {
      "image/png": "[encoded data removed]",
      "text/plain": [
       "<Figure size 432x288 with 1 Axes>"
      ]
     },
     "metadata": {
      "needs_background": "light"
     },
     "output_type": "display_data"
    }
   ],
   "source": [
    "fig,ax=plt.subplots()\n",
    "sns.distplot(credit.loc[credit.SEX==\"Male\",'AGE'].dropna(),\n",
    "            hist=False, color='green',\n",
    "            kde_kws={\"shade\":True},\n",
    "            ax=ax, label='Male')\n",
    "sns.distplot(credit.loc[credit.SEX==\"Female\",'AGE'].dropna(),\n",
    "            hist=False, color='blue',\n",
    "            kde_kws={\"shade\":True},\n",
    "            ax=ax, label='Female')\n",
    "ax.set_title(\"Distribución por Genero por Edad\")\n",
    "ax.legend(title='Gender:')"
   ]
  },
  {
   "cell_type": "code",
   "execution_count": 138,
   "metadata": {},
   "outputs": [
    {
     "data": {
      "text/plain": [
       "<matplotlib.legend.Legend at 0x1538187f488>"
      ]
     },
     "execution_count": 138,
     "metadata": {},
     "output_type": "execute_result"
    },
    {
     "data": {
      "image/png": "[encoded data removed]",
      "text/plain": [
       "<Figure size 432x288 with 1 Axes>"
      ]
     },
     "metadata": {
      "needs_background": "light"
     },
     "output_type": "display_data"
    }
   ],
   "source": [
    "fig,ax=plt.subplots()\n",
    "sns.distplot(credit.loc[credit.DEFAULT==\"Yes\",'AGE'].dropna(),\n",
    "            hist=False, color='green',\n",
    "            kde_kws={\"shade\":True},\n",
    "            ax=ax, label='Yes')\n",
    "sns.distplot(credit.loc[credit.DEFAULT==\"No\",'AGE'].dropna(),\n",
    "            hist=False, color='blue',\n",
    "            kde_kws={\"shade\":True},\n",
    "            ax=ax, label='No')\n",
    "ax.set_title(\"Distribución por Default por Edad\")\n",
    "ax.legend(title='Default:')"
   ]
  }
 ],
 "metadata": {
  "kernelspec": {
   "display_name": "Python 3",
   "language": "python",
   "name": "python3"
  },
  "language_info": {
   "codemirror_mode": {
    "name": "ipython",
    "version": 3
   },
   "file_extension": ".py",
   "mimetype": "text/x-python",
   "name": "python",
   "nbconvert_exporter": "python",
   "pygments_lexer": "ipython3",
   "version": "3.7.4"
  }
 },
 "nbformat": 4,
 "nbformat_minor": 2
}
